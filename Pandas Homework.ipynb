{
 "cells": [
  {
   "cell_type": "code",
   "execution_count": 221,
   "metadata": {},
   "outputs": [],
   "source": [
    "# Dependencies\n",
    "import pandas as pd\n",
    "import numpy as np"
   ]
  },
  {
   "cell_type": "code",
   "execution_count": 222,
   "metadata": {},
   "outputs": [
    {
     "data": {
      "text/html": [
       "<div>\n",
       "<style scoped>\n",
       "    .dataframe tbody tr th:only-of-type {\n",
       "        vertical-align: middle;\n",
       "    }\n",
       "\n",
       "    .dataframe tbody tr th {\n",
       "        vertical-align: top;\n",
       "    }\n",
       "\n",
       "    .dataframe thead th {\n",
       "        text-align: right;\n",
       "    }\n",
       "</style>\n",
       "<table border=\"1\" class=\"dataframe\">\n",
       "  <thead>\n",
       "    <tr style=\"text-align: right;\">\n",
       "      <th></th>\n",
       "      <th>Student ID</th>\n",
       "      <th>student_name</th>\n",
       "      <th>gender</th>\n",
       "      <th>grade</th>\n",
       "      <th>school_name</th>\n",
       "      <th>reading_score</th>\n",
       "      <th>math_score</th>\n",
       "      <th>School ID</th>\n",
       "      <th>type</th>\n",
       "      <th>size</th>\n",
       "      <th>budget</th>\n",
       "    </tr>\n",
       "  </thead>\n",
       "  <tbody>\n",
       "    <tr>\n",
       "      <th>0</th>\n",
       "      <td>0</td>\n",
       "      <td>Paul Bradley</td>\n",
       "      <td>M</td>\n",
       "      <td>9th</td>\n",
       "      <td>Huang High School</td>\n",
       "      <td>66</td>\n",
       "      <td>79</td>\n",
       "      <td>0</td>\n",
       "      <td>District</td>\n",
       "      <td>2917</td>\n",
       "      <td>1910635</td>\n",
       "    </tr>\n",
       "    <tr>\n",
       "      <th>1</th>\n",
       "      <td>1</td>\n",
       "      <td>Victor Smith</td>\n",
       "      <td>M</td>\n",
       "      <td>12th</td>\n",
       "      <td>Huang High School</td>\n",
       "      <td>94</td>\n",
       "      <td>61</td>\n",
       "      <td>0</td>\n",
       "      <td>District</td>\n",
       "      <td>2917</td>\n",
       "      <td>1910635</td>\n",
       "    </tr>\n",
       "    <tr>\n",
       "      <th>2</th>\n",
       "      <td>2</td>\n",
       "      <td>Kevin Rodriguez</td>\n",
       "      <td>M</td>\n",
       "      <td>12th</td>\n",
       "      <td>Huang High School</td>\n",
       "      <td>90</td>\n",
       "      <td>60</td>\n",
       "      <td>0</td>\n",
       "      <td>District</td>\n",
       "      <td>2917</td>\n",
       "      <td>1910635</td>\n",
       "    </tr>\n",
       "    <tr>\n",
       "      <th>3</th>\n",
       "      <td>3</td>\n",
       "      <td>Dr. Richard Scott</td>\n",
       "      <td>M</td>\n",
       "      <td>12th</td>\n",
       "      <td>Huang High School</td>\n",
       "      <td>67</td>\n",
       "      <td>58</td>\n",
       "      <td>0</td>\n",
       "      <td>District</td>\n",
       "      <td>2917</td>\n",
       "      <td>1910635</td>\n",
       "    </tr>\n",
       "    <tr>\n",
       "      <th>4</th>\n",
       "      <td>4</td>\n",
       "      <td>Bonnie Ray</td>\n",
       "      <td>F</td>\n",
       "      <td>9th</td>\n",
       "      <td>Huang High School</td>\n",
       "      <td>97</td>\n",
       "      <td>84</td>\n",
       "      <td>0</td>\n",
       "      <td>District</td>\n",
       "      <td>2917</td>\n",
       "      <td>1910635</td>\n",
       "    </tr>\n",
       "  </tbody>\n",
       "</table>\n",
       "</div>"
      ],
      "text/plain": [
       "   Student ID       student_name gender grade        school_name  \\\n",
       "0           0       Paul Bradley      M   9th  Huang High School   \n",
       "1           1       Victor Smith      M  12th  Huang High School   \n",
       "2           2    Kevin Rodriguez      M  12th  Huang High School   \n",
       "3           3  Dr. Richard Scott      M  12th  Huang High School   \n",
       "4           4         Bonnie Ray      F   9th  Huang High School   \n",
       "\n",
       "   reading_score  math_score  School ID      type  size   budget  \n",
       "0             66          79          0  District  2917  1910635  \n",
       "1             94          61          0  District  2917  1910635  \n",
       "2             90          60          0  District  2917  1910635  \n",
       "3             67          58          0  District  2917  1910635  \n",
       "4             97          84          0  District  2917  1910635  "
      ]
     },
     "execution_count": 222,
     "metadata": {},
     "output_type": "execute_result"
    }
   ],
   "source": [
    "#Import csv\n",
    "school_data_to_load = \"Resources/schools_complete.csv\"\n",
    "student_data_to_load = \"Resources/students_complete.csv\"\n",
    "\n",
    "# Read School and Student Data File and store into Pandas Data Frames\n",
    "school_data = pd.read_csv(school_data_to_load)\n",
    "student_data = pd.read_csv(student_data_to_load)\n",
    "\n",
    "# Combine the data into a single dataset\n",
    "school_data_complete = pd.merge(student_data, school_data, how=\"left\", \n",
    "                                on=[\"school_name\", \"school_name\"])\n",
    "school_data_complete.head()"
   ]
  },
  {
   "cell_type": "code",
   "execution_count": 223,
   "metadata": {},
   "outputs": [
    {
     "data": {
      "text/plain": [
       "15"
      ]
     },
     "execution_count": 223,
     "metadata": {},
     "output_type": "execute_result"
    }
   ],
   "source": [
    "# Create table summarizing District Data\n",
    "# School name Count\n",
    "school_count = school_data_complete[\"school_name\"].nunique()\n",
    "school_count"
   ]
  },
  {
   "cell_type": "code",
   "execution_count": 224,
   "metadata": {},
   "outputs": [
    {
     "data": {
      "text/plain": [
       "39170"
      ]
     },
     "execution_count": 224,
     "metadata": {},
     "output_type": "execute_result"
    }
   ],
   "source": [
    "# Total Number of Students\n",
    "student_count = school_data_complete[\"Student ID\"].count()\n",
    "student_count"
   ]
  },
  {
   "cell_type": "code",
   "execution_count": 225,
   "metadata": {},
   "outputs": [
    {
     "data": {
      "text/plain": [
       "24649428"
      ]
     },
     "execution_count": 225,
     "metadata": {},
     "output_type": "execute_result"
    }
   ],
   "source": [
    "# Total Budget\n",
    "total_budget = school_data[\"budget\"].sum()\n",
    "total_budget"
   ]
  },
  {
   "cell_type": "code",
   "execution_count": 226,
   "metadata": {},
   "outputs": [
    {
     "data": {
      "text/plain": [
       "78.98537145774827"
      ]
     },
     "execution_count": 226,
     "metadata": {},
     "output_type": "execute_result"
    }
   ],
   "source": [
    "# Average Math Score\n",
    "avg_math_score = school_data_complete[\"math_score\"].mean()\n",
    "avg_math_score"
   ]
  },
  {
   "cell_type": "code",
   "execution_count": 227,
   "metadata": {},
   "outputs": [
    {
     "data": {
      "text/plain": [
       "81.87784018381414"
      ]
     },
     "execution_count": 227,
     "metadata": {},
     "output_type": "execute_result"
    }
   ],
   "source": [
    "# Average Reading Score\n",
    "avg_read_score = school_data_complete[\"reading_score\"].mean()\n",
    "avg_read_score"
   ]
  },
  {
   "cell_type": "code",
   "execution_count": 228,
   "metadata": {},
   "outputs": [
    {
     "data": {
      "text/plain": [
       "80.43160582078121"
      ]
     },
     "execution_count": 228,
     "metadata": {},
     "output_type": "execute_result"
    }
   ],
   "source": [
    "# Overall Passing Rate of Math and Reading\n",
    "overall_passing = (avg_math_score+avg_read_score)/2\n",
    "overall_passing"
   ]
  },
  {
   "cell_type": "code",
   "execution_count": 229,
   "metadata": {},
   "outputs": [],
   "source": [
    "# Percent of Passing Math Scores\n",
    "passing_math_count= school_data_complete[(school_data_complete[\"math_score\"] >= 70)].count()[\"student_name\"]"
   ]
  },
  {
   "cell_type": "code",
   "execution_count": 230,
   "metadata": {},
   "outputs": [
    {
     "data": {
      "text/plain": [
       "74.9808526933878"
      ]
     },
     "execution_count": 230,
     "metadata": {},
     "output_type": "execute_result"
    }
   ],
   "source": [
    "percent_math = (passing_math_count/student_count)*100\n",
    "percent_math"
   ]
  },
  {
   "cell_type": "code",
   "execution_count": 231,
   "metadata": {},
   "outputs": [
    {
     "data": {
      "text/plain": [
       "33610"
      ]
     },
     "execution_count": 231,
     "metadata": {},
     "output_type": "execute_result"
    }
   ],
   "source": [
    "# Percent of Passing Reading Scores\n",
    "passing_read_count= school_data_complete[\n",
    "    (school_data_complete[\"reading_score\"] >= 70)].count()[\"student_name\"]\n",
    "passing_read_count"
   ]
  },
  {
   "cell_type": "code",
   "execution_count": 232,
   "metadata": {},
   "outputs": [
    {
     "data": {
      "text/plain": [
       "85.80546336482001"
      ]
     },
     "execution_count": 232,
     "metadata": {},
     "output_type": "execute_result"
    }
   ],
   "source": [
    "percent_read = (passing_read_count/student_count)*100\n",
    "percent_read"
   ]
  },
  {
   "cell_type": "code",
   "execution_count": 233,
   "metadata": {},
   "outputs": [],
   "source": [
    "# Creating dictionary of District Summary\n",
    "district_summary_dict={\"Total Schools\": [school_count],\n",
    "                                \"Total Students\": [student_count],\n",
    "                                \"Total Budget\": [total_budget],\n",
    "                                \"Average Math Score\": [avg_math_score],\n",
    "                                \"Average Reading Score\": [avg_read_score],\n",
    "                                \"% Passing Math\": [percent_math],\n",
    "                                \"% Passing Reading\": [percent_read],\n",
    "                                \"% Overall Passing Rate\": [overall_passing]}\n"
   ]
  },
  {
   "cell_type": "code",
   "execution_count": 234,
   "metadata": {},
   "outputs": [
    {
     "data": {
      "text/plain": [
       "{'Total Schools': [15],\n",
       " 'Total Students': [39170],\n",
       " 'Total Budget': [24649428],\n",
       " 'Average Math Score': [78.98537145774827],\n",
       " 'Average Reading Score': [81.87784018381414],\n",
       " '% Passing Math': [74.9808526933878],\n",
       " '% Passing Reading': [85.80546336482001],\n",
       " '% Overall Passing Rate': [80.43160582078121]}"
      ]
     },
     "execution_count": 234,
     "metadata": {},
     "output_type": "execute_result"
    }
   ],
   "source": [
    "district_summary_dict"
   ]
  },
  {
   "cell_type": "code",
   "execution_count": 235,
   "metadata": {},
   "outputs": [
    {
     "data": {
      "text/html": [
       "<div>\n",
       "<style scoped>\n",
       "    .dataframe tbody tr th:only-of-type {\n",
       "        vertical-align: middle;\n",
       "    }\n",
       "\n",
       "    .dataframe tbody tr th {\n",
       "        vertical-align: top;\n",
       "    }\n",
       "\n",
       "    .dataframe thead th {\n",
       "        text-align: right;\n",
       "    }\n",
       "</style>\n",
       "<table border=\"1\" class=\"dataframe\">\n",
       "  <thead>\n",
       "    <tr style=\"text-align: right;\">\n",
       "      <th></th>\n",
       "      <th>Total Schools</th>\n",
       "      <th>Total Students</th>\n",
       "      <th>Total Budget</th>\n",
       "      <th>Average Math Score</th>\n",
       "      <th>Average Reading Score</th>\n",
       "      <th>% Passing Math</th>\n",
       "      <th>% Passing Reading</th>\n",
       "      <th>% Overall Passing Rate</th>\n",
       "    </tr>\n",
       "  </thead>\n",
       "  <tbody>\n",
       "    <tr>\n",
       "      <th>0</th>\n",
       "      <td>15</td>\n",
       "      <td>39170</td>\n",
       "      <td>24649428</td>\n",
       "      <td>78.985371</td>\n",
       "      <td>81.87784</td>\n",
       "      <td>74.980853</td>\n",
       "      <td>85.805463</td>\n",
       "      <td>80.431606</td>\n",
       "    </tr>\n",
       "  </tbody>\n",
       "</table>\n",
       "</div>"
      ],
      "text/plain": [
       "   Total Schools  Total Students  Total Budget  Average Math Score  \\\n",
       "0             15           39170      24649428           78.985371   \n",
       "\n",
       "   Average Reading Score  % Passing Math  % Passing Reading  \\\n",
       "0               81.87784       74.980853          85.805463   \n",
       "\n",
       "   % Overall Passing Rate  \n",
       "0               80.431606  "
      ]
     },
     "execution_count": 235,
     "metadata": {},
     "output_type": "execute_result"
    }
   ],
   "source": [
    "# Create DataFrame for District\n",
    "summary_dist_df = pd.DataFrame(district_summary_dict)\n",
    "summary_dist_df"
   ]
  },
  {
   "cell_type": "code",
   "execution_count": 236,
   "metadata": {},
   "outputs": [
    {
     "data": {
      "text/html": [
       "<div>\n",
       "<style scoped>\n",
       "    .dataframe tbody tr th:only-of-type {\n",
       "        vertical-align: middle;\n",
       "    }\n",
       "\n",
       "    .dataframe tbody tr th {\n",
       "        vertical-align: top;\n",
       "    }\n",
       "\n",
       "    .dataframe thead th {\n",
       "        text-align: right;\n",
       "    }\n",
       "</style>\n",
       "<table border=\"1\" class=\"dataframe\">\n",
       "  <thead>\n",
       "    <tr style=\"text-align: right;\">\n",
       "      <th></th>\n",
       "      <th>Total Schools</th>\n",
       "      <th>Total Students</th>\n",
       "      <th>Total Budget</th>\n",
       "      <th>Average Math Score</th>\n",
       "      <th>Average Reading Score</th>\n",
       "      <th>% Passing Math</th>\n",
       "      <th>% Passing Reading</th>\n",
       "      <th>% Overall Passing Rate</th>\n",
       "    </tr>\n",
       "  </thead>\n",
       "  <tbody>\n",
       "    <tr>\n",
       "      <th>0</th>\n",
       "      <td>15</td>\n",
       "      <td>39,170</td>\n",
       "      <td>$24,649,428.00</td>\n",
       "      <td>78.985371</td>\n",
       "      <td>81.87784</td>\n",
       "      <td>74.980853</td>\n",
       "      <td>85.805463</td>\n",
       "      <td>80.431606</td>\n",
       "    </tr>\n",
       "  </tbody>\n",
       "</table>\n",
       "</div>"
      ],
      "text/plain": [
       "   Total Schools Total Students    Total Budget  Average Math Score  \\\n",
       "0             15         39,170  $24,649,428.00           78.985371   \n",
       "\n",
       "   Average Reading Score  % Passing Math  % Passing Reading  \\\n",
       "0               81.87784       74.980853          85.805463   \n",
       "\n",
       "   % Overall Passing Rate  \n",
       "0               80.431606  "
      ]
     },
     "execution_count": 236,
     "metadata": {},
     "output_type": "execute_result"
    }
   ],
   "source": [
    "# Finalized District Summary\n",
    "summary_dist_df[\"Total Students\"] = summary_dist_df[\"Total Students\"].map(\"{:,}\".format)\n",
    "summary_dist_df[\"Total Budget\"]   = summary_dist_df[\"Total Budget\"].map(\"${:,.2f}\".format)\n",
    "summary_dist_df.head()"
   ]
  },
  {
   "cell_type": "code",
   "execution_count": null,
   "metadata": {},
   "outputs": [],
   "source": []
  },
  {
   "cell_type": "code",
   "execution_count": 237,
   "metadata": {},
   "outputs": [],
   "source": [
    "# Begin on School Summary"
   ]
  },
  {
   "cell_type": "code",
   "execution_count": 251,
   "metadata": {},
   "outputs": [],
   "source": [
    "# School Type\n",
    "school_type = school_data_complete.set_index([\"school_name\"])[\"type\"]\n",
    "school_type2 = school_type[\"type\"]"
   ]
  },
  {
   "cell_type": "code",
   "execution_count": 252,
   "metadata": {},
   "outputs": [
    {
     "data": {
      "text/plain": [
       "Bailey High School       4976\n",
       "Johnson High School      4761\n",
       "Hernandez High School    4635\n",
       "Rodriguez High School    3999\n",
       "Figueroa High School     2949\n",
       "Huang High School        2917\n",
       "Ford High School         2739\n",
       "Wilson High School       2283\n",
       "Cabrera High School      1858\n",
       "Wright High School       1800\n",
       "Shelton High School      1761\n",
       "Thomas High School       1635\n",
       "Griffin High School      1468\n",
       "Pena High School          962\n",
       "Holden High School        427\n",
       "Name: school_name, dtype: int64"
      ]
     },
     "execution_count": 252,
     "metadata": {},
     "output_type": "execute_result"
    }
   ],
   "source": [
    "# Calculate NUmber of Students Per School\n",
    "students_per_school = school_data_complete[\"school_name\"].value_counts()\n",
    "students_per_school"
   ]
  },
  {
   "cell_type": "code",
   "execution_count": 253,
   "metadata": {},
   "outputs": [
    {
     "data": {
      "text/plain": [
       "school_name\n",
       "Bailey High School       3124928.0\n",
       "Cabrera High School      1081356.0\n",
       "Figueroa High School     1884411.0\n",
       "Ford High School         1763916.0\n",
       "Griffin High School       917500.0\n",
       "Hernandez High School    3022020.0\n",
       "Holden High School        248087.0\n",
       "Huang High School        1910635.0\n",
       "Johnson High School      3094650.0\n",
       "Pena High School          585858.0\n",
       "Rodriguez High School    2547363.0\n",
       "Shelton High School      1056600.0\n",
       "Thomas High School       1043130.0\n",
       "Wilson High School       1319574.0\n",
       "Wright High School       1049400.0\n",
       "Name: budget, dtype: float64"
      ]
     },
     "execution_count": 253,
     "metadata": {},
     "output_type": "execute_result"
    }
   ],
   "source": [
    "# Calculate School Budget\n",
    "per_school_budget = school_data_complete.groupby([\"school_name\"]).mean()[\"budget\"]\n",
    "per_school_budget"
   ]
  },
  {
   "cell_type": "code",
   "execution_count": 254,
   "metadata": {},
   "outputs": [
    {
     "data": {
      "text/plain": [
       "Bailey High School       628.0\n",
       "Cabrera High School      582.0\n",
       "Figueroa High School     639.0\n",
       "Ford High School         644.0\n",
       "Griffin High School      625.0\n",
       "Hernandez High School    652.0\n",
       "Holden High School       581.0\n",
       "Huang High School        655.0\n",
       "Johnson High School      650.0\n",
       "Pena High School         609.0\n",
       "Rodriguez High School    637.0\n",
       "Shelton High School      600.0\n",
       "Thomas High School       638.0\n",
       "Wilson High School       578.0\n",
       "Wright High School       583.0\n",
       "dtype: float64"
      ]
     },
     "execution_count": 254,
     "metadata": {},
     "output_type": "execute_result"
    }
   ],
   "source": [
    "# Calculater Per Student Budget\n",
    "per_student_budget = per_school_budget / students_per_school\n",
    "per_student_budget"
   ]
  },
  {
   "cell_type": "code",
   "execution_count": 255,
   "metadata": {},
   "outputs": [
    {
     "data": {
      "text/plain": [
       "school_name\n",
       "Bailey High School       77.05\n",
       "Cabrera High School      83.06\n",
       "Figueroa High School     76.71\n",
       "Ford High School         77.10\n",
       "Griffin High School      83.35\n",
       "Hernandez High School    77.29\n",
       "Holden High School       83.80\n",
       "Huang High School        76.63\n",
       "Johnson High School      77.07\n",
       "Pena High School         83.84\n",
       "Rodriguez High School    76.84\n",
       "Shelton High School      83.36\n",
       "Thomas High School       83.42\n",
       "Wilson High School       83.27\n",
       "Wright High School       83.68\n",
       "Name: math_score, dtype: float64"
      ]
     },
     "execution_count": 255,
     "metadata": {},
     "output_type": "execute_result"
    }
   ],
   "source": [
    "# Calculating Average Math Score Per School\n",
    "avg_math_per_school = round(school_data_complete.groupby([\"school_name\"]).mean()[\"math_score\"],2)\n",
    "avg_math_per_school"
   ]
  },
  {
   "cell_type": "code",
   "execution_count": 256,
   "metadata": {},
   "outputs": [
    {
     "data": {
      "text/plain": [
       "school_name\n",
       "Bailey High School       81.03\n",
       "Cabrera High School      83.98\n",
       "Figueroa High School     81.16\n",
       "Ford High School         80.75\n",
       "Griffin High School      83.82\n",
       "Hernandez High School    80.93\n",
       "Holden High School       83.81\n",
       "Huang High School        81.18\n",
       "Johnson High School      80.97\n",
       "Pena High School         84.04\n",
       "Rodriguez High School    80.74\n",
       "Shelton High School      83.73\n",
       "Thomas High School       83.85\n",
       "Wilson High School       83.99\n",
       "Wright High School       83.96\n",
       "Name: reading_score, dtype: float64"
      ]
     },
     "execution_count": 256,
     "metadata": {},
     "output_type": "execute_result"
    }
   ],
   "source": [
    "# Calculate Average Reading Score Per School\n",
    "avg_read_per_school = round(school_data_complete.groupby([\"school_name\"]).mean()[\"reading_score\"],2)\n",
    "avg_read_per_school"
   ]
  },
  {
   "cell_type": "code",
   "execution_count": 257,
   "metadata": {},
   "outputs": [],
   "source": [
    "# Calculate Percent of Passing Math Scores of All Schools\n",
    "passing_math = school_data_complete[(school_data_complete[\"math_score\"] >= 70)]"
   ]
  },
  {
   "cell_type": "code",
   "execution_count": 258,
   "metadata": {},
   "outputs": [
    {
     "data": {
      "text/plain": [
       "Bailey High School       66.68\n",
       "Cabrera High School      94.13\n",
       "Figueroa High School     65.99\n",
       "Ford High School         68.31\n",
       "Griffin High School      93.39\n",
       "Hernandez High School    66.75\n",
       "Holden High School       92.51\n",
       "Huang High School        65.68\n",
       "Johnson High School      66.06\n",
       "Pena High School         94.59\n",
       "Rodriguez High School    66.37\n",
       "Shelton High School      93.87\n",
       "Thomas High School       93.27\n",
       "Wilson High School       93.87\n",
       "Wright High School       93.33\n",
       "dtype: float64"
      ]
     },
     "execution_count": 258,
     "metadata": {},
     "output_type": "execute_result"
    }
   ],
   "source": [
    "# Calculate Passing Math Per School\n",
    "passing_math = passing_math.groupby([\"school_name\"]).count()[\"student_name\"]\n",
    "# Calculate Percent of Passing Math\n",
    "percent_passing_math = round(passing_math / students_per_school*100,2)\n",
    "percent_passing_math"
   ]
  },
  {
   "cell_type": "code",
   "execution_count": 259,
   "metadata": {},
   "outputs": [],
   "source": [
    "# Calculat Percent of Passing Reading Scores of All\n",
    "passing_read = school_data_complete[(school_data_complete[\"reading_score\"] >= 70)]"
   ]
  },
  {
   "cell_type": "code",
   "execution_count": 260,
   "metadata": {},
   "outputs": [
    {
     "data": {
      "text/plain": [
       "Bailey High School       81.93\n",
       "Cabrera High School      97.04\n",
       "Figueroa High School     80.74\n",
       "Ford High School         79.30\n",
       "Griffin High School      97.14\n",
       "Hernandez High School    80.86\n",
       "Holden High School       96.25\n",
       "Huang High School        81.32\n",
       "Johnson High School      81.22\n",
       "Pena High School         95.95\n",
       "Rodriguez High School    80.22\n",
       "Shelton High School      95.85\n",
       "Thomas High School       97.31\n",
       "Wilson High School       96.54\n",
       "Wright High School       96.61\n",
       "dtype: float64"
      ]
     },
     "execution_count": 260,
     "metadata": {},
     "output_type": "execute_result"
    }
   ],
   "source": [
    "# Calculate Passing Reading Per School\n",
    "passing_read = passing_read.groupby([\"school_name\"]).count()[\"student_name\"]\n",
    "# Calculate Percent of Passing Read Scores\n",
    "percent_passing_read = round(passing_read / students_per_school*100,2)\n",
    "percent_passing_read\n"
   ]
  },
  {
   "cell_type": "code",
   "execution_count": 261,
   "metadata": {},
   "outputs": [
    {
     "data": {
      "text/plain": [
       "Bailey High School       74.31\n",
       "Cabrera High School      95.58\n",
       "Figueroa High School     73.36\n",
       "Ford High School         73.81\n",
       "Griffin High School      95.26\n",
       "Hernandez High School    73.81\n",
       "Holden High School       94.38\n",
       "Huang High School        73.50\n",
       "Johnson High School      73.64\n",
       "Pena High School         95.27\n",
       "Rodriguez High School    73.30\n",
       "Shelton High School      94.86\n",
       "Thomas High School       95.29\n",
       "Wilson High School       95.21\n",
       "Wright High School       94.97\n",
       "dtype: float64"
      ]
     },
     "execution_count": 261,
     "metadata": {},
     "output_type": "execute_result"
    }
   ],
   "source": [
    "# Calculate Overall Passing Rate \n",
    "overall_passing_per_school = round((percent_passing_math + percent_passing_read) / 2,2)\n",
    "overall_passing_per_school"
   ]
  },
  {
   "cell_type": "code",
   "execution_count": 262,
   "metadata": {},
   "outputs": [
    {
     "data": {
      "text/plain": [
       "{'School Type': [school_name\n",
       "  Huang High School     District\n",
       "  Huang High School     District\n",
       "  Huang High School     District\n",
       "  Huang High School     District\n",
       "  Huang High School     District\n",
       "  Huang High School     District\n",
       "  Huang High School     District\n",
       "  Huang High School     District\n",
       "  Huang High School     District\n",
       "  Huang High School     District\n",
       "  Huang High School     District\n",
       "  Huang High School     District\n",
       "  Huang High School     District\n",
       "  Huang High School     District\n",
       "  Huang High School     District\n",
       "  Huang High School     District\n",
       "  Huang High School     District\n",
       "  Huang High School     District\n",
       "  Huang High School     District\n",
       "  Huang High School     District\n",
       "  Huang High School     District\n",
       "  Huang High School     District\n",
       "  Huang High School     District\n",
       "  Huang High School     District\n",
       "  Huang High School     District\n",
       "  Huang High School     District\n",
       "  Huang High School     District\n",
       "  Huang High School     District\n",
       "  Huang High School     District\n",
       "  Huang High School     District\n",
       "                          ...   \n",
       "  Thomas High School     Charter\n",
       "  Thomas High School     Charter\n",
       "  Thomas High School     Charter\n",
       "  Thomas High School     Charter\n",
       "  Thomas High School     Charter\n",
       "  Thomas High School     Charter\n",
       "  Thomas High School     Charter\n",
       "  Thomas High School     Charter\n",
       "  Thomas High School     Charter\n",
       "  Thomas High School     Charter\n",
       "  Thomas High School     Charter\n",
       "  Thomas High School     Charter\n",
       "  Thomas High School     Charter\n",
       "  Thomas High School     Charter\n",
       "  Thomas High School     Charter\n",
       "  Thomas High School     Charter\n",
       "  Thomas High School     Charter\n",
       "  Thomas High School     Charter\n",
       "  Thomas High School     Charter\n",
       "  Thomas High School     Charter\n",
       "  Thomas High School     Charter\n",
       "  Thomas High School     Charter\n",
       "  Thomas High School     Charter\n",
       "  Thomas High School     Charter\n",
       "  Thomas High School     Charter\n",
       "  Thomas High School     Charter\n",
       "  Thomas High School     Charter\n",
       "  Thomas High School     Charter\n",
       "  Thomas High School     Charter\n",
       "  Thomas High School     Charter\n",
       "  Name: type, Length: 39170, dtype: object],\n",
       " 'Total Students': [Bailey High School       4976\n",
       "  Johnson High School      4761\n",
       "  Hernandez High School    4635\n",
       "  Rodriguez High School    3999\n",
       "  Figueroa High School     2949\n",
       "  Huang High School        2917\n",
       "  Ford High School         2739\n",
       "  Wilson High School       2283\n",
       "  Cabrera High School      1858\n",
       "  Wright High School       1800\n",
       "  Shelton High School      1761\n",
       "  Thomas High School       1635\n",
       "  Griffin High School      1468\n",
       "  Pena High School          962\n",
       "  Holden High School        427\n",
       "  Name: school_name, dtype: int64],\n",
       " 'Total School Budget': [school_name\n",
       "  Bailey High School       3124928.0\n",
       "  Cabrera High School      1081356.0\n",
       "  Figueroa High School     1884411.0\n",
       "  Ford High School         1763916.0\n",
       "  Griffin High School       917500.0\n",
       "  Hernandez High School    3022020.0\n",
       "  Holden High School        248087.0\n",
       "  Huang High School        1910635.0\n",
       "  Johnson High School      3094650.0\n",
       "  Pena High School          585858.0\n",
       "  Rodriguez High School    2547363.0\n",
       "  Shelton High School      1056600.0\n",
       "  Thomas High School       1043130.0\n",
       "  Wilson High School       1319574.0\n",
       "  Wright High School       1049400.0\n",
       "  Name: budget, dtype: float64],\n",
       " 'Per Student Budget': [Bailey High School       628.0\n",
       "  Cabrera High School      582.0\n",
       "  Figueroa High School     639.0\n",
       "  Ford High School         644.0\n",
       "  Griffin High School      625.0\n",
       "  Hernandez High School    652.0\n",
       "  Holden High School       581.0\n",
       "  Huang High School        655.0\n",
       "  Johnson High School      650.0\n",
       "  Pena High School         609.0\n",
       "  Rodriguez High School    637.0\n",
       "  Shelton High School      600.0\n",
       "  Thomas High School       638.0\n",
       "  Wilson High School       578.0\n",
       "  Wright High School       583.0\n",
       "  dtype: float64],\n",
       " 'Average Math Score': [school_name\n",
       "  Bailey High School       77.05\n",
       "  Cabrera High School      83.06\n",
       "  Figueroa High School     76.71\n",
       "  Ford High School         77.10\n",
       "  Griffin High School      83.35\n",
       "  Hernandez High School    77.29\n",
       "  Holden High School       83.80\n",
       "  Huang High School        76.63\n",
       "  Johnson High School      77.07\n",
       "  Pena High School         83.84\n",
       "  Rodriguez High School    76.84\n",
       "  Shelton High School      83.36\n",
       "  Thomas High School       83.42\n",
       "  Wilson High School       83.27\n",
       "  Wright High School       83.68\n",
       "  Name: math_score, dtype: float64],\n",
       " 'Average Reading Score': [school_name\n",
       "  Bailey High School       81.03\n",
       "  Cabrera High School      83.98\n",
       "  Figueroa High School     81.16\n",
       "  Ford High School         80.75\n",
       "  Griffin High School      83.82\n",
       "  Hernandez High School    80.93\n",
       "  Holden High School       83.81\n",
       "  Huang High School        81.18\n",
       "  Johnson High School      80.97\n",
       "  Pena High School         84.04\n",
       "  Rodriguez High School    80.74\n",
       "  Shelton High School      83.73\n",
       "  Thomas High School       83.85\n",
       "  Wilson High School       83.99\n",
       "  Wright High School       83.96\n",
       "  Name: reading_score, dtype: float64],\n",
       " '% Passing Math': [Bailey High School       66.68\n",
       "  Cabrera High School      94.13\n",
       "  Figueroa High School     65.99\n",
       "  Ford High School         68.31\n",
       "  Griffin High School      93.39\n",
       "  Hernandez High School    66.75\n",
       "  Holden High School       92.51\n",
       "  Huang High School        65.68\n",
       "  Johnson High School      66.06\n",
       "  Pena High School         94.59\n",
       "  Rodriguez High School    66.37\n",
       "  Shelton High School      93.87\n",
       "  Thomas High School       93.27\n",
       "  Wilson High School       93.87\n",
       "  Wright High School       93.33\n",
       "  dtype: float64],\n",
       " '% Passing Read': [Bailey High School       81.93\n",
       "  Cabrera High School      97.04\n",
       "  Figueroa High School     80.74\n",
       "  Ford High School         79.30\n",
       "  Griffin High School      97.14\n",
       "  Hernandez High School    80.86\n",
       "  Holden High School       96.25\n",
       "  Huang High School        81.32\n",
       "  Johnson High School      81.22\n",
       "  Pena High School         95.95\n",
       "  Rodriguez High School    80.22\n",
       "  Shelton High School      95.85\n",
       "  Thomas High School       97.31\n",
       "  Wilson High School       96.54\n",
       "  Wright High School       96.61\n",
       "  dtype: float64],\n",
       " 'Overall Passing Rate': [Bailey High School       74.31\n",
       "  Cabrera High School      95.58\n",
       "  Figueroa High School     73.36\n",
       "  Ford High School         73.81\n",
       "  Griffin High School      95.26\n",
       "  Hernandez High School    73.81\n",
       "  Holden High School       94.38\n",
       "  Huang High School        73.50\n",
       "  Johnson High School      73.64\n",
       "  Pena High School         95.27\n",
       "  Rodriguez High School    73.30\n",
       "  Shelton High School      94.86\n",
       "  Thomas High School       95.29\n",
       "  Wilson High School       95.21\n",
       "  Wright High School       94.97\n",
       "  dtype: float64]}"
      ]
     },
     "execution_count": 262,
     "metadata": {},
     "output_type": "execute_result"
    }
   ],
   "source": [
    "# Create Dictionarty of School Summary\n",
    "\n",
    "school_summary_dict = {\"School Type\": [school_type2],\n",
    "                       \"Total Students\": [students_per_school],\n",
    "                       \"Total School Budget\": [per_school_budget],\n",
    "                       \"Per Student Budget\": [per_student_budget],\n",
    "                       \"Average Math Score\": [avg_math_per_school],\n",
    "                       \"Average Reading Score\": [avg_read_per_school],\n",
    "                       \"% Passing Math\": [percent_passing_math],\n",
    "                       \"% Passing Read\": [percent_passing_read],\n",
    "                       \"Overall Passing Rate\": [overall_passing_per_school]}\n",
    "school_summary_dict"
   ]
  },
  {
   "cell_type": "code",
   "execution_count": 263,
   "metadata": {},
   "outputs": [
    {
     "data": {
      "text/html": [
       "<div>\n",
       "<style scoped>\n",
       "    .dataframe tbody tr th:only-of-type {\n",
       "        vertical-align: middle;\n",
       "    }\n",
       "\n",
       "    .dataframe tbody tr th {\n",
       "        vertical-align: top;\n",
       "    }\n",
       "\n",
       "    .dataframe thead th {\n",
       "        text-align: right;\n",
       "    }\n",
       "</style>\n",
       "<table border=\"1\" class=\"dataframe\">\n",
       "  <thead>\n",
       "    <tr style=\"text-align: right;\">\n",
       "      <th></th>\n",
       "      <th>School Type</th>\n",
       "      <th>Total Students</th>\n",
       "      <th>Total School Budget</th>\n",
       "      <th>Per Student Budget</th>\n",
       "      <th>Average Math Score</th>\n",
       "      <th>Average Reading Score</th>\n",
       "      <th>% Passing Math</th>\n",
       "      <th>% Passing Read</th>\n",
       "      <th>Overall Passing Rate</th>\n",
       "    </tr>\n",
       "  </thead>\n",
       "  <tbody>\n",
       "    <tr>\n",
       "      <th>0</th>\n",
       "      <td>school_name\n",
       "Huang High School     District\n",
       "Hua...</td>\n",
       "      <td>Bailey High School       4976\n",
       "Johnson High Sch...</td>\n",
       "      <td>school_name\n",
       "Bailey High School       3124928.0...</td>\n",
       "      <td>Bailey High School       628.0\n",
       "Cabrera High Sc...</td>\n",
       "      <td>school_name\n",
       "Bailey High School       77.05\n",
       "Cab...</td>\n",
       "      <td>school_name\n",
       "Bailey High School       81.03\n",
       "Cab...</td>\n",
       "      <td>Bailey High School       66.68\n",
       "Cabrera High Sc...</td>\n",
       "      <td>Bailey High School       81.93\n",
       "Cabrera High Sc...</td>\n",
       "      <td>Bailey High School       74.31\n",
       "Cabrera High Sc...</td>\n",
       "    </tr>\n",
       "  </tbody>\n",
       "</table>\n",
       "</div>"
      ],
      "text/plain": [
       "                                         School Type  \\\n",
       "0  school_name\n",
       "Huang High School     District\n",
       "Hua...   \n",
       "\n",
       "                                      Total Students  \\\n",
       "0  Bailey High School       4976\n",
       "Johnson High Sch...   \n",
       "\n",
       "                                 Total School Budget  \\\n",
       "0  school_name\n",
       "Bailey High School       3124928.0...   \n",
       "\n",
       "                                  Per Student Budget  \\\n",
       "0  Bailey High School       628.0\n",
       "Cabrera High Sc...   \n",
       "\n",
       "                                  Average Math Score  \\\n",
       "0  school_name\n",
       "Bailey High School       77.05\n",
       "Cab...   \n",
       "\n",
       "                               Average Reading Score  \\\n",
       "0  school_name\n",
       "Bailey High School       81.03\n",
       "Cab...   \n",
       "\n",
       "                                      % Passing Math  \\\n",
       "0  Bailey High School       66.68\n",
       "Cabrera High Sc...   \n",
       "\n",
       "                                      % Passing Read  \\\n",
       "0  Bailey High School       81.93\n",
       "Cabrera High Sc...   \n",
       "\n",
       "                                Overall Passing Rate  \n",
       "0  Bailey High School       74.31\n",
       "Cabrera High Sc...  "
      ]
     },
     "execution_count": 263,
     "metadata": {},
     "output_type": "execute_result"
    }
   ],
   "source": [
    "school_summary_df = pd.DataFrame(school_summary_dict) \n",
    "school_summary_df"
   ]
  },
  {
   "cell_type": "code",
   "execution_count": null,
   "metadata": {},
   "outputs": [],
   "source": []
  },
  {
   "cell_type": "code",
   "execution_count": null,
   "metadata": {},
   "outputs": [],
   "source": []
  }
 ],
 "metadata": {
  "kernelspec": {
   "display_name": "Python 3",
   "language": "python",
   "name": "python3"
  },
  "language_info": {
   "codemirror_mode": {
    "name": "ipython",
    "version": 3
   },
   "file_extension": ".py",
   "mimetype": "text/x-python",
   "name": "python",
   "nbconvert_exporter": "python",
   "pygments_lexer": "ipython3",
   "version": "3.7.1"
  }
 },
 "nbformat": 4,
 "nbformat_minor": 2
}
